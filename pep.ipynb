{
 "cells": [
  {
   "cell_type": "code",
   "execution_count": 3,
   "id": "373cf3ab",
   "metadata": {},
   "outputs": [],
   "source": [
    "import pandas as pd\n",
    "\n",
    "df1 = pd.read_csv('MZ78_sle_protein_peptide_precipetation.csv', sep=';') \n",
    "df2 = pd.read_csv('MZ81_sle_protein_peptide_superdex75.csv', sep=';') "
   ]
  },
  {
   "cell_type": "code",
   "execution_count": 20,
   "id": "bb0a31d4",
   "metadata": {},
   "outputs": [],
   "source": [
    "df1 = df1.filter(['Protein Accession', 'Peptide']).drop_duplicates()"
   ]
  },
  {
   "cell_type": "code",
   "execution_count": 21,
   "id": "a937b413",
   "metadata": {},
   "outputs": [],
   "source": [
    "df2 = df2.filter(['Protein Accession', 'Peptide']).drop_duplicates()"
   ]
  },
  {
   "cell_type": "code",
   "execution_count": 27,
   "id": "0e198716",
   "metadata": {},
   "outputs": [
    {
     "data": {
      "text/html": [
       "<div>\n",
       "<style scoped>\n",
       "    .dataframe tbody tr th:only-of-type {\n",
       "        vertical-align: middle;\n",
       "    }\n",
       "\n",
       "    .dataframe tbody tr th {\n",
       "        vertical-align: top;\n",
       "    }\n",
       "\n",
       "    .dataframe thead th {\n",
       "        text-align: right;\n",
       "    }\n",
       "</style>\n",
       "<table border=\"1\" class=\"dataframe\">\n",
       "  <thead>\n",
       "    <tr style=\"text-align: right;\">\n",
       "      <th></th>\n",
       "      <th>Protein Accession</th>\n",
       "      <th>Peptide</th>\n",
       "    </tr>\n",
       "  </thead>\n",
       "  <tbody>\n",
       "    <tr>\n",
       "      <th>0</th>\n",
       "      <td>P60709|ACTB_HUMAN</td>\n",
       "      <td>D.SGDGVTHTVPIYEGYALPHAILRL.D</td>\n",
       "    </tr>\n",
       "    <tr>\n",
       "      <th>1</th>\n",
       "      <td>P60709|ACTB_HUMAN</td>\n",
       "      <td>Y.ASGRTTGIVMDSGDGVTHTVPIYEGY.A</td>\n",
       "    </tr>\n",
       "    <tr>\n",
       "      <th>2</th>\n",
       "      <td>P60709|ACTB_HUMAN</td>\n",
       "      <td>A.SSSSLEKSYELPDGQVITIGNER.F</td>\n",
       "    </tr>\n",
       "    <tr>\n",
       "      <th>3</th>\n",
       "      <td>P60709|ACTB_HUMAN</td>\n",
       "      <td>M.DSGDGVTHTVPIYEGYALPHAILR.L</td>\n",
       "    </tr>\n",
       "    <tr>\n",
       "      <th>4</th>\n",
       "      <td>P60709|ACTB_HUMAN</td>\n",
       "      <td>S.SSLEKSYELPDGQVITIGNER.F</td>\n",
       "    </tr>\n",
       "  </tbody>\n",
       "</table>\n",
       "</div>"
      ],
      "text/plain": [
       "   Protein Accession                         Peptide\n",
       "0  P60709|ACTB_HUMAN    D.SGDGVTHTVPIYEGYALPHAILRL.D\n",
       "1  P60709|ACTB_HUMAN  Y.ASGRTTGIVMDSGDGVTHTVPIYEGY.A\n",
       "2  P60709|ACTB_HUMAN     A.SSSSLEKSYELPDGQVITIGNER.F\n",
       "3  P60709|ACTB_HUMAN    M.DSGDGVTHTVPIYEGYALPHAILR.L\n",
       "4  P60709|ACTB_HUMAN       S.SSLEKSYELPDGQVITIGNER.F"
      ]
     },
     "execution_count": 27,
     "metadata": {},
     "output_type": "execute_result"
    }
   ],
   "source": [
    "df2.head()"
   ]
  },
  {
   "cell_type": "code",
   "execution_count": 23,
   "id": "72854d66",
   "metadata": {},
   "outputs": [],
   "source": [
    "result = pd.merge(df1, df2, on = 'Protein Accession', how='inner')"
   ]
  },
  {
   "cell_type": "code",
   "execution_count": 24,
   "id": "081bac71",
   "metadata": {},
   "outputs": [
    {
     "data": {
      "text/html": [
       "<div>\n",
       "<style scoped>\n",
       "    .dataframe tbody tr th:only-of-type {\n",
       "        vertical-align: middle;\n",
       "    }\n",
       "\n",
       "    .dataframe tbody tr th {\n",
       "        vertical-align: top;\n",
       "    }\n",
       "\n",
       "    .dataframe thead th {\n",
       "        text-align: right;\n",
       "    }\n",
       "</style>\n",
       "<table border=\"1\" class=\"dataframe\">\n",
       "  <thead>\n",
       "    <tr style=\"text-align: right;\">\n",
       "      <th></th>\n",
       "      <th>Protein Accession</th>\n",
       "      <th>Peptide_x</th>\n",
       "      <th>Peptide_y</th>\n",
       "    </tr>\n",
       "  </thead>\n",
       "  <tbody>\n",
       "    <tr>\n",
       "      <th>0</th>\n",
       "      <td>P60709|ACTB_HUMAN</td>\n",
       "      <td>M.DSGDGVTHTVPIYEGYALPHAILR.L</td>\n",
       "      <td>D.SGDGVTHTVPIYEGYALPHAILRL.D</td>\n",
       "    </tr>\n",
       "    <tr>\n",
       "      <th>1</th>\n",
       "      <td>P60709|ACTB_HUMAN</td>\n",
       "      <td>M.DSGDGVTHTVPIYEGYALPHAILR.L</td>\n",
       "      <td>Y.ASGRTTGIVMDSGDGVTHTVPIYEGY.A</td>\n",
       "    </tr>\n",
       "    <tr>\n",
       "      <th>2</th>\n",
       "      <td>P60709|ACTB_HUMAN</td>\n",
       "      <td>M.DSGDGVTHTVPIYEGYALPHAILR.L</td>\n",
       "      <td>A.SSSSLEKSYELPDGQVITIGNER.F</td>\n",
       "    </tr>\n",
       "    <tr>\n",
       "      <th>3</th>\n",
       "      <td>P60709|ACTB_HUMAN</td>\n",
       "      <td>M.DSGDGVTHTVPIYEGYALPHAILR.L</td>\n",
       "      <td>M.DSGDGVTHTVPIYEGYALPHAILR.L</td>\n",
       "    </tr>\n",
       "    <tr>\n",
       "      <th>4</th>\n",
       "      <td>P60709|ACTB_HUMAN</td>\n",
       "      <td>M.DSGDGVTHTVPIYEGYALPHAILR.L</td>\n",
       "      <td>S.SSLEKSYELPDGQVITIGNER.F</td>\n",
       "    </tr>\n",
       "    <tr>\n",
       "      <th>...</th>\n",
       "      <td>...</td>\n",
       "      <td>...</td>\n",
       "      <td>...</td>\n",
       "    </tr>\n",
       "    <tr>\n",
       "      <th>116464</th>\n",
       "      <td>Q02880|TOP2B_HUMAN</td>\n",
       "      <td>Y.DAREIVNNV.R</td>\n",
       "      <td>K.GLGTSTAKEAKEYF.A</td>\n",
       "    </tr>\n",
       "    <tr>\n",
       "      <th>116465</th>\n",
       "      <td>P50991-2|TCPD_HUMAN</td>\n",
       "      <td>L.SDRETLLNSATT.S</td>\n",
       "      <td>L.SDRETLLNSATTSLNSKVVSQY.S</td>\n",
       "    </tr>\n",
       "    <tr>\n",
       "      <th>116466</th>\n",
       "      <td>P50991-2|TCPD_HUMAN</td>\n",
       "      <td>L.SDRETLLNSATT.S</td>\n",
       "      <td>A.TETVRSILKIDDVVNT.R</td>\n",
       "    </tr>\n",
       "    <tr>\n",
       "      <th>116467</th>\n",
       "      <td>P50991|TCPD_HUMAN</td>\n",
       "      <td>L.SDRETLLNSATT.S</td>\n",
       "      <td>L.SDRETLLNSATTSLNSKVVSQY.S</td>\n",
       "    </tr>\n",
       "    <tr>\n",
       "      <th>116468</th>\n",
       "      <td>P50991|TCPD_HUMAN</td>\n",
       "      <td>L.SDRETLLNSATT.S</td>\n",
       "      <td>A.TETVRSILKIDDVVNT.R</td>\n",
       "    </tr>\n",
       "  </tbody>\n",
       "</table>\n",
       "<p>116469 rows × 3 columns</p>\n",
       "</div>"
      ],
      "text/plain": [
       "          Protein Accession                     Peptide_x  \\\n",
       "0         P60709|ACTB_HUMAN  M.DSGDGVTHTVPIYEGYALPHAILR.L   \n",
       "1         P60709|ACTB_HUMAN  M.DSGDGVTHTVPIYEGYALPHAILR.L   \n",
       "2         P60709|ACTB_HUMAN  M.DSGDGVTHTVPIYEGYALPHAILR.L   \n",
       "3         P60709|ACTB_HUMAN  M.DSGDGVTHTVPIYEGYALPHAILR.L   \n",
       "4         P60709|ACTB_HUMAN  M.DSGDGVTHTVPIYEGYALPHAILR.L   \n",
       "...                     ...                           ...   \n",
       "116464   Q02880|TOP2B_HUMAN                 Y.DAREIVNNV.R   \n",
       "116465  P50991-2|TCPD_HUMAN              L.SDRETLLNSATT.S   \n",
       "116466  P50991-2|TCPD_HUMAN              L.SDRETLLNSATT.S   \n",
       "116467    P50991|TCPD_HUMAN              L.SDRETLLNSATT.S   \n",
       "116468    P50991|TCPD_HUMAN              L.SDRETLLNSATT.S   \n",
       "\n",
       "                             Peptide_y  \n",
       "0         D.SGDGVTHTVPIYEGYALPHAILRL.D  \n",
       "1       Y.ASGRTTGIVMDSGDGVTHTVPIYEGY.A  \n",
       "2          A.SSSSLEKSYELPDGQVITIGNER.F  \n",
       "3         M.DSGDGVTHTVPIYEGYALPHAILR.L  \n",
       "4            S.SSLEKSYELPDGQVITIGNER.F  \n",
       "...                                ...  \n",
       "116464              K.GLGTSTAKEAKEYF.A  \n",
       "116465      L.SDRETLLNSATTSLNSKVVSQY.S  \n",
       "116466            A.TETVRSILKIDDVVNT.R  \n",
       "116467      L.SDRETLLNSATTSLNSKVVSQY.S  \n",
       "116468            A.TETVRSILKIDDVVNT.R  \n",
       "\n",
       "[116469 rows x 3 columns]"
      ]
     },
     "execution_count": 24,
     "metadata": {},
     "output_type": "execute_result"
    }
   ],
   "source": [
    "result"
   ]
  },
  {
   "cell_type": "code",
   "execution_count": 26,
   "id": "8a476118",
   "metadata": {},
   "outputs": [],
   "source": [
    "result.to_csv(\"res_peptides.csv\", index=False)"
   ]
  }
 ],
 "metadata": {
  "kernelspec": {
   "display_name": "Python 3 (ipykernel)",
   "language": "python",
   "name": "python3"
  },
  "language_info": {
   "codemirror_mode": {
    "name": "ipython",
    "version": 3
   },
   "file_extension": ".py",
   "mimetype": "text/x-python",
   "name": "python",
   "nbconvert_exporter": "python",
   "pygments_lexer": "ipython3",
   "version": "3.9.13"
  }
 },
 "nbformat": 4,
 "nbformat_minor": 5
}
